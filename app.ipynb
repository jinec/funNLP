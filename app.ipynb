{
  "cells": [
    {
      "cell_type": "code",
      "execution_count": null,
      "metadata": {
        "id": "HdYdNQcFVwDD"
      },
      "outputs": [],
      "source": [
        "!pip install vanna\n",
        "import vanna\n",
        "from vanna.remote import VannaDefault\n",
        "vn = VannaDefault(model='chinook', api_key=vanna.get_api_key('mgitu125@126.com'))\n",
        "vn.connect_to_sqlite('https://vanna.ai/Chinook.sqlite')\n",
        "vn.ask(\"What are the top 10 albums by sales?\")"
      ]
    },
    {
      "cell_type": "code",
      "execution_count": null,
      "metadata": {
        "id": "iRD0fQB1VwDL"
      },
      "outputs": [],
      "source": [
        "from vanna.flask import VannaFlaskApp\n",
        "VannaFlaskApp(vn).run()"
      ]
    },
    {
      "cell_type": "markdown",
      "metadata": {
        "id": "7FbN-0F0VwDM"
      },
      "source": [
        "## Here's what you'll get\n",
        "![vanna-flask](https://vanna.ai/blog/img/vanna-flask.gif)"
      ]
    },
    {
      "cell_type": "markdown",
      "metadata": {
        "id": "9L7lZPPYVwDP"
      },
      "source": []
    }
  ],
  "metadata": {
    "language_info": {
      "name": "python"
    },
    "colab": {
      "provenance": []
    }
  },
  "nbformat": 4,
  "nbformat_minor": 0
}